{
 "cells": [
  {
   "cell_type": "markdown",
   "metadata": {},
   "source": [
    "This html code (for the homepage route) was deleted before the creation of the base html file"
   ]
  },
  {
   "cell_type": "code",
   "execution_count": null,
   "metadata": {},
   "outputs": [],
   "source": [
    "<!doctype html>\n",
    "<html lang=\"en\">\n",
    "\n",
    "<head>\n",
    "    <!-- Required meta tags -->\n",
    "    <meta charset=\"utf-8\">\n",
    "    <meta name=\"viewport\" content=\"width=device-width, initial-scale=1, shrink-to-fit=no\">\n",
    "\n",
    "    <!-- Bootstrap CSS -->\n",
    "    <link rel=\"stylesheet\" href=\"https://cdn.jsdelivr.net/npm/bootstrap@4.5.3/dist/css/bootstrap.min.css\"\n",
    "        integrity=\"sha384-TX8t27EcRE3e/ihU7zmQxVncDAy5uIKz4rEkgIXeMed4M0jlfIDPvg6uqKI2xXr2\" crossorigin=\"anonymous\">\n",
    "\n",
    "    <title>Homepage</title>\n",
    "</head>\n",
    "\n",
    "<body>\n",
    "    <nav class=\"navbar navbar-expand-md navbar-dark bg-dark\">\n",
    "        <a class=\"navbar-brand\" href=\"#\">Welcome Marketeer!</a>\n",
    "        <button class=\"navbar-toggler\" type=\"button\" data-toggle=\"collapse\" data-target=\"#navbarNav\">\n",
    "            <span class=\"navbar-toggler-icon\"></span>\n",
    "        </button>\n",
    "        <div class=\"collapse navbar-collapse\" id=\"navbarNav\">\n",
    "            <ul class=\"navbar-nav mr-auto\">\n",
    "                <li class=\"nav-item active\">\n",
    "                    <a class=\"nav-link\" href=\"#\">Home <span class=\"sr-only\">(current)</span></a>\n",
    "                </li>\n",
    "                <li class=\"nav-item\">\n",
    "                    <a class=\"nav-link\" href=\"#\">Market</a>\n",
    "                </li>\n",
    "            </ul>\n",
    "            <ul class=\"navbar-nav\">\n",
    "                <li class=\"nav-item\">\n",
    "                    <a class=\"nav-link\" href=\"#\">Login</a>\n",
    "                </li>\n",
    "                <li class=\"nav-item\">\n",
    "                    <a class=\"nav-link\" href=\"#\">Register</a>\n",
    "                </li>\n",
    "            </ul>\n",
    "        </div>\n",
    "    </nav>\n",
    "\n",
    "    <h1>Homepage</h1>\n",
    "\n",
    "    <!-- Optional JavaScript; choose one of the two! -->\n",
    "\n",
    "    <!-- Option 1: jQuery and Bootstrap Bundle (includes Popper) -->\n",
    "    <script src=\"https://code.jquery.com/jquery-3.5.1.slim.min.js\"\n",
    "        integrity=\"sha384-DfXdz2htPH0lsSSs5nCTpuj/zy4C+OGpamoFVy38MVBnE+IbbVYUew+OrCXaRkfj\"\n",
    "        crossorigin=\"anonymous\"></script>\n",
    "    <script src=\"https://cdn.jsdelivr.net/npm/bootstrap@4.5.3/dist/js/bootstrap.bundle.min.js\"\n",
    "        integrity=\"sha384-ho+j7jyWK8fNQe+A12Hb8AhRq26LrZ/JpcUGGOn+Y7RsweNrtN/tE3MoK7ZeZDyx\"\n",
    "        crossorigin=\"anonymous\"></script>\n",
    "\n",
    "    <!-- Option 2: jQuery, Popper.js, and Bootstrap JS\n",
    "    <script src=\"https://code.jquery.com/jquery-3.5.1.slim.min.js\" integrity=\"sha384-DfXdz2htPH0lsSSs5nCTpuj/zy4C+OGpamoFVy38MVBnE+IbbVYUew+OrCXaRkfj\" crossorigin=\"anonymous\"></script>\n",
    "    <script src=\"https://cdn.jsdelivr.net/npm/popper.js@1.16.1/dist/umd/popper.min.js\" integrity=\"sha384-9/reFTGAW83EW2RDu2S0VKaIzap3H66lZH81PoYlFhbGU+6BZp6G7niu735Sk7lN\" crossorigin=\"anonymous\"></script>\n",
    "    <script src=\"https://cdn.jsdelivr.net/npm/bootstrap@4.5.3/dist/js/bootstrap.min.js\" integrity=\"sha384-w1Q4orYjBQndcko6MimVbzY0tgp4pWB4lZ7lr30WKz0vr/aWKhXdBNmNb5D92v7s\" crossorigin=\"anonymous\"></script>\n",
    "    -->\n",
    "</body>\n",
    "<style>\n",
    "    body {\n",
    "        background-color: rgb(63, 60, 60);\n",
    "        color:aliceblue\n",
    "    }\n",
    "</style>\n",
    "</html>  "
   ]
  },
  {
   "cell_type": "code",
   "execution_count": null,
   "metadata": {},
   "outputs": [],
   "source": []
  }
 ],
 "metadata": {
  "interpreter": {
   "hash": "7c1574b83762e322c2f4b97cb27c6a43010c71fae6e97787198288adf7fdb036"
  },
  "kernelspec": {
   "display_name": "Python 3.10.2 64-bit",
   "language": "python",
   "name": "python3"
  },
  "language_info": {
   "name": "python",
   "version": "3.10.2"
  },
  "orig_nbformat": 4
 },
 "nbformat": 4,
 "nbformat_minor": 2
}
